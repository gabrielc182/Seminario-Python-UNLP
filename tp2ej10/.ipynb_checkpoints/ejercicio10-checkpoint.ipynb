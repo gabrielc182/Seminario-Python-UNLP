{
 "cells": [
  {
   "cell_type": "markdown",
   "id": "2003132a-2d7a-47fa-aae5-ff2bdbcacb3b",
   "metadata": {},
   "source": [
    "# Práctica 2 - Ejercicio 10"
   ]
  },
  {
   "cell_type": "code",
   "execution_count": 4,
   "id": "612934db-ec4d-4329-8bb5-4c09f73b8050",
   "metadata": {
    "tags": []
   },
   "outputs": [
    {
     "name": "stdout",
     "output_type": "stream",
     "text": [
      "['Agustin', 'Alan', 'Andrés', 'Ariadna', 'Bautista', 'CAROLINA', 'CESAR', 'David', 'Diego', 'Dolores', 'DYLAN', 'ELIANA', 'Emanuel', 'Fabián', 'Facundo', 'Facundo', 'FEDERICO', 'FEDERICO', 'GONZALO', 'Gregorio', 'Ignacio', 'Jonathan', 'Jonathan', 'Jorge', 'JOSE', 'JUAN', 'Juan', 'Juan', 'Julian', 'Julieta', 'LAUTARO', 'Leonel', 'LUIS', 'Luis', 'Marcos', 'María', 'MATEO', 'Matias', 'Nicolás', 'NICOLÁS', 'Noelia', 'Pablo', 'Priscila', 'TOMAS', 'Tomás', 'Ulises', 'Yanina']\n"
     ]
    }
   ],
   "source": [
    "#print(\"Lectura del contenido del archivo de nombres\")\n",
    "archivo = open (\"nombres_1.txt\",'r')\n",
    "nombres = archivo.read().replace(\"'\",\"\").replace(\",\",\"\").replace(\" \",\"\").split(\"\\n\")\n",
    "archivo.close()\n",
    "\n",
    "nombres = nombres[:len(nombres)-1] #porque me queda el \"\\n\" final\n",
    "#print(nombres)"
   ]
  },
  {
   "cell_type": "raw",
   "id": "2726f69f-bd35-4435-bd52-8761e53b318b",
   "metadata": {
    "tags": []
   },
   "source": [
    "Paso todos los nombres a mayúsculas"
   ]
  },
  {
   "cell_type": "code",
   "execution_count": 2,
   "id": "56b60a07-1b06-4f48-8bc0-d16743c649f8",
   "metadata": {
    "tags": []
   },
   "outputs": [],
   "source": [
    "for i in range(len(nombres)):\n",
    "    nombres[i]= nombres[i].upper()\n",
    "#print(nombres)"
   ]
  },
  {
   "cell_type": "raw",
   "id": "556fdbfe-2baa-4c6b-8e17-954e7d1aa496",
   "metadata": {},
   "source": [
    "Genero una lista con las notas de ambas evaluaciones para cada alumno"
   ]
  },
  {
   "cell_type": "code",
   "execution_count": 5,
   "id": "c883c1a6-d3e9-4c22-ba4c-826f51786969",
   "metadata": {
    "tags": []
   },
   "outputs": [
    {
     "name": "stdout",
     "output_type": "stream",
     "text": [
      "[111, 155, 100, 108, 99, 134, 78, 121, 33, 53, 74, 13, 48, 101, 106, 128, 97, 106, 76, 90, 21, 173, 62, 79, 100, 68, 142, 112, 87, 146, 148, 55, 140, 109, 103, 110, 137, 114, 65, 22, 105, 99, 24, 139, 126, 120, 84]\n"
     ]
    }
   ],
   "source": [
    "arch_notas1 = open(\"eval1.txt\") #El modo 'r' viene por defecto. No lo puse a propósito.\n",
    "arch_notas2 = open(\"eval2.txt\")\n",
    "\n",
    "#Limpio las notas de símbolos adicionales\n",
    "notas1 = arch_notas1.read().replace(\",\",\"\").replace(\" \",\"\").split(\"\\n\")\n",
    "notas1 = notas1[:len(notas1)-1] #Porque me queda un blanco al final..\n",
    "notas2 = arch_notas2.read().replace(\",\",\"\").replace(\" \",\"\").split(\"\\n\")\n",
    "notas2 = notas2[:len(notas2)-1]\n",
    "\n",
    "arch_notas1.close()\n",
    "arch_notas2.close()\n",
    "\n",
    "#print(notas1)\n",
    "#print(notas2)\n",
    "\n",
    "#print(len(notas1))\n",
    "#print(len(notas2))\n",
    "\n",
    "suma_notas = []\n",
    "\n",
    "for i in range(len(notas1)):#Elijo cualquiera de los dos porque ambos tienen la misma cantidad de elementos\n",
    "    suma_notas.append(int(notas1[i]) + int(notas2[i]))\n",
    "\n",
    "#print(suma_notas)"
   ]
  },
  {
   "cell_type": "raw",
   "id": "7f41c985-e264-47e5-a98d-b2595f7bb9b3",
   "metadata": {},
   "source": [
    "Genero la estructura que contiene la información global de los alumnos"
   ]
  },
  {
   "cell_type": "raw",
   "id": "17e203c0-d13a-4402-ba9f-aec1e2ad8492",
   "metadata": {},
   "source": [
    "Elegí lista de listas porque los nombres se repiten."
   ]
  },
  {
   "cell_type": "code",
   "execution_count": 4,
   "id": "eadc4970-fac2-47b1-adec-ca44d06ebbd3",
   "metadata": {
    "tags": []
   },
   "outputs": [],
   "source": [
    "max=len(nombres)\n",
    "\n",
    "lista_final = []\n",
    "for i in range(max):\n",
    "    aux = [nombres[i],suma_notas[i]]\n",
    "    lista_final.append(aux)\n",
    "#print(lista_final)"
   ]
  },
  {
   "cell_type": "raw",
   "id": "7c2b237a-b452-42b2-855f-19f0b86b718d",
   "metadata": {
    "tags": []
   },
   "source": [
    "Calculo el promedio de notas"
   ]
  },
  {
   "cell_type": "code",
   "execution_count": 5,
   "id": "4335462e-15ab-4cb1-82e2-65dfb98338af",
   "metadata": {},
   "outputs": [
    {
     "name": "stdout",
     "output_type": "stream",
     "text": [
      "La cantidad total de puntos de todos los alumnos es: 4521\n",
      "El promedio de notas del curso es: 96\n"
     ]
    }
   ],
   "source": [
    "total_puntos = 0\n",
    "for i in range(len(lista_final)):\n",
    "    total_puntos = total_puntos + lista_final[i][1]\n",
    "print(f\"La cantidad total de puntos de todos los alumnos es: {total_puntos}\")\n",
    "promedio = total_puntos//len(lista_final)\n",
    "print(f\"El promedio de notas del curso es: {promedio}\")"
   ]
  },
  {
   "cell_type": "raw",
   "id": "99358789-3402-4f83-81cd-c019219fce52",
   "metadata": {},
   "source": [
    "Imprimo los alumnos que se encuentran con notas por debajo del promedio"
   ]
  },
  {
   "cell_type": "code",
   "execution_count": 6,
   "id": "c4547af9-5c71-4207-bbc3-3c90fa1e5226",
   "metadata": {
    "tags": []
   },
   "outputs": [
    {
     "name": "stdout",
     "output_type": "stream",
     "text": [
      "Alumnos con notas por debajo del promedio <Nota promedio 96>\n",
      "  Alumno nro: 7 - Nombre: CESAR - Nota global: 78\n",
      "  Alumno nro: 9 - Nombre: DIEGO - Nota global: 33\n",
      "  Alumno nro: 10 - Nombre: DOLORES - Nota global: 53\n",
      "  Alumno nro: 11 - Nombre: DYLAN - Nota global: 74\n",
      "  Alumno nro: 12 - Nombre: ELIANA - Nota global: 13\n",
      "  Alumno nro: 13 - Nombre: EMANUEL - Nota global: 48\n",
      "  Alumno nro: 19 - Nombre: GONZALO - Nota global: 76\n",
      "  Alumno nro: 20 - Nombre: GREGORIO - Nota global: 90\n",
      "  Alumno nro: 21 - Nombre: IGNACIO - Nota global: 21\n",
      "  Alumno nro: 23 - Nombre: JONATHAN - Nota global: 62\n",
      "  Alumno nro: 24 - Nombre: JORGE - Nota global: 79\n",
      "  Alumno nro: 26 - Nombre: JUAN - Nota global: 68\n",
      "  Alumno nro: 29 - Nombre: JULIAN - Nota global: 87\n",
      "  Alumno nro: 32 - Nombre: LEONEL - Nota global: 55\n",
      "  Alumno nro: 39 - Nombre: NICOLÁS - Nota global: 65\n",
      "  Alumno nro: 40 - Nombre: NICOLÁS - Nota global: 22\n",
      "  Alumno nro: 43 - Nombre: PRISCILA - Nota global: 24\n",
      "  Alumno nro: 47 - Nombre: YANINA - Nota global: 84\n"
     ]
    }
   ],
   "source": [
    "print(f\"Alumnos con notas por debajo del promedio <Nota promedio {promedio}>\")\n",
    "for i in range(len(lista_final)):\n",
    "    if lista_final[i][1]<promedio:\n",
    "        print(f\"  Alumno nro: {i+1} - Nombre: {lista_final[i][0]} - Nota global: {lista_final[i][1]}\")"
   ]
  },
  {
   "cell_type": "code",
   "execution_count": 7,
   "id": "0bab71f0-9419-4444-9513-8cc5cda0c692",
   "metadata": {},
   "outputs": [
    {
     "name": "stdout",
     "output_type": "stream",
     "text": [
      "FIN DEL PROGRAMA.\n"
     ]
    }
   ],
   "source": [
    "print(\"FIN DEL PROGRAMA.\")"
   ]
  }
 ],
 "metadata": {
  "kernelspec": {
   "display_name": "Python 3 (ipykernel)",
   "language": "python",
   "name": "python3"
  },
  "language_info": {
   "codemirror_mode": {
    "name": "ipython",
    "version": 3
   },
   "file_extension": ".py",
   "mimetype": "text/x-python",
   "name": "python",
   "nbconvert_exporter": "python",
   "pygments_lexer": "ipython3",
   "version": "3.8.10"
  }
 },
 "nbformat": 4,
 "nbformat_minor": 5
}
